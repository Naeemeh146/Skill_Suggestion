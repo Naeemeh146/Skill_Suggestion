{
 "cells": [
  {
   "cell_type": "code",
   "execution_count": 1,
   "id": "31ef70a8",
   "metadata": {},
   "outputs": [
    {
     "name": "stdout",
     "output_type": "stream",
     "text": [
      "Requirement already satisfied: streamlit in c:\\users\\n.yadollahpour\\python\\python310\\lib\\site-packages (from -r requirements.txt (line 1)) (1.17.0)\n",
      "Requirement already satisfied: openai<=1 in c:\\users\\n.yadollahpour\\python\\python310\\lib\\site-packages (from -r requirements.txt (line 2)) (0.27.7)\n",
      "Requirement already satisfied: validators>=0.2 in c:\\users\\n.yadollahpour\\python\\python310\\lib\\site-packages (from streamlit->-r requirements.txt (line 1)) (0.20.0)\n",
      "Requirement already satisfied: pyarrow>=4.0 in c:\\users\\n.yadollahpour\\python\\python310\\lib\\site-packages (from streamlit->-r requirements.txt (line 1)) (11.0.0)\n",
      "Requirement already satisfied: rich>=10.11.0 in c:\\users\\n.yadollahpour\\python\\python310\\lib\\site-packages (from streamlit->-r requirements.txt (line 1)) (13.3.1)\n",
      "Requirement already satisfied: numpy in c:\\users\\n.yadollahpour\\python\\python310\\lib\\site-packages (from streamlit->-r requirements.txt (line 1)) (1.23.4)\n",
      "Requirement already satisfied: pillow>=6.2.0 in c:\\users\\n.yadollahpour\\python\\python310\\lib\\site-packages (from streamlit->-r requirements.txt (line 1)) (9.1.1)\n",
      "Requirement already satisfied: click>=7.0 in c:\\users\\n.yadollahpour\\python\\python310\\lib\\site-packages (from streamlit->-r requirements.txt (line 1)) (8.1.3)\n",
      "Requirement already satisfied: tornado>=5.0 in c:\\users\\n.yadollahpour\\python\\python310\\lib\\site-packages (from streamlit->-r requirements.txt (line 1)) (6.1)\n",
      "Requirement already satisfied: tzlocal>=1.1 in c:\\users\\n.yadollahpour\\python\\python310\\lib\\site-packages (from streamlit->-r requirements.txt (line 1)) (4.2)\n",
      "Requirement already satisfied: protobuf<4,>=3.12 in c:\\users\\n.yadollahpour\\python\\python310\\lib\\site-packages (from streamlit->-r requirements.txt (line 1)) (3.20.3)\n",
      "Requirement already satisfied: blinker>=1.0.0 in c:\\users\\n.yadollahpour\\python\\python310\\lib\\site-packages (from streamlit->-r requirements.txt (line 1)) (1.5)\n",
      "Requirement already satisfied: semver in c:\\users\\n.yadollahpour\\python\\python310\\lib\\site-packages (from streamlit->-r requirements.txt (line 1)) (2.13.0)\n",
      "Requirement already satisfied: pydeck>=0.1.dev5 in c:\\users\\n.yadollahpour\\python\\python310\\lib\\site-packages (from streamlit->-r requirements.txt (line 1)) (0.8.0)\n",
      "Requirement already satisfied: toml in c:\\users\\n.yadollahpour\\python\\python310\\lib\\site-packages (from streamlit->-r requirements.txt (line 1)) (0.10.2)\n",
      "Requirement already satisfied: pympler>=0.9 in c:\\users\\n.yadollahpour\\python\\python310\\lib\\site-packages (from streamlit->-r requirements.txt (line 1)) (1.0.1)\n",
      "Requirement already satisfied: typing-extensions>=3.10.0.0 in c:\\users\\n.yadollahpour\\python\\python310\\lib\\site-packages (from streamlit->-r requirements.txt (line 1)) (4.3.0)\n",
      "Requirement already satisfied: pandas>=0.21.0 in c:\\users\\n.yadollahpour\\python\\python310\\lib\\site-packages (from streamlit->-r requirements.txt (line 1)) (1.5.2)\n",
      "Requirement already satisfied: packaging>=14.1 in c:\\users\\n.yadollahpour\\python\\python310\\lib\\site-packages (from streamlit->-r requirements.txt (line 1)) (21.3)\n",
      "Requirement already satisfied: requests>=2.4 in c:\\users\\n.yadollahpour\\python\\python310\\lib\\site-packages (from streamlit->-r requirements.txt (line 1)) (2.28.0)\n",
      "Requirement already satisfied: importlib-metadata>=1.4 in c:\\users\\n.yadollahpour\\python\\python310\\lib\\site-packages (from streamlit->-r requirements.txt (line 1)) (6.0.0)\n",
      "Requirement already satisfied: altair>=3.2.0 in c:\\users\\n.yadollahpour\\python\\python310\\lib\\site-packages (from streamlit->-r requirements.txt (line 1)) (4.2.2)\n",
      "Requirement already satisfied: cachetools>=4.0 in c:\\users\\n.yadollahpour\\python\\python310\\lib\\site-packages (from streamlit->-r requirements.txt (line 1)) (5.3.0)\n",
      "Requirement already satisfied: watchdog in c:\\users\\n.yadollahpour\\python\\python310\\lib\\site-packages (from streamlit->-r requirements.txt (line 1)) (2.2.1)\n",
      "Requirement already satisfied: python-dateutil in c:\\users\\n.yadollahpour\\python\\python310\\lib\\site-packages (from streamlit->-r requirements.txt (line 1)) (2.8.2)\n",
      "Requirement already satisfied: gitpython!=3.1.19 in c:\\users\\n.yadollahpour\\python\\python310\\lib\\site-packages (from streamlit->-r requirements.txt (line 1)) (3.1.30)\n",
      "Requirement already satisfied: aiohttp in c:\\users\\n.yadollahpour\\python\\python310\\lib\\site-packages (from openai<=1->-r requirements.txt (line 2)) (3.8.3)\n",
      "Requirement already satisfied: tqdm in c:\\users\\n.yadollahpour\\python\\python310\\lib\\site-packages (from openai<=1->-r requirements.txt (line 2)) (4.64.0)\n",
      "Requirement already satisfied: jsonschema>=3.0 in c:\\users\\n.yadollahpour\\python\\python310\\lib\\site-packages (from altair>=3.2.0->streamlit->-r requirements.txt (line 1)) (4.6.0)\n",
      "Requirement already satisfied: jinja2 in c:\\users\\n.yadollahpour\\python\\python310\\lib\\site-packages (from altair>=3.2.0->streamlit->-r requirements.txt (line 1)) (3.1.2)\n",
      "Requirement already satisfied: entrypoints in c:\\users\\n.yadollahpour\\python\\python310\\lib\\site-packages (from altair>=3.2.0->streamlit->-r requirements.txt (line 1)) (0.4)\n",
      "Requirement already satisfied: toolz in c:\\users\\n.yadollahpour\\python\\python310\\lib\\site-packages (from altair>=3.2.0->streamlit->-r requirements.txt (line 1)) (0.12.0)\n",
      "Requirement already satisfied: colorama in c:\\users\\n.yadollahpour\\python\\python310\\lib\\site-packages (from click>=7.0->streamlit->-r requirements.txt (line 1)) (0.4.5)\n",
      "Requirement already satisfied: gitdb<5,>=4.0.1 in c:\\users\\n.yadollahpour\\python\\python310\\lib\\site-packages (from gitpython!=3.1.19->streamlit->-r requirements.txt (line 1)) (4.0.10)\n",
      "Requirement already satisfied: zipp>=0.5 in c:\\users\\n.yadollahpour\\python\\python310\\lib\\site-packages (from importlib-metadata>=1.4->streamlit->-r requirements.txt (line 1)) (3.12.0)\n",
      "Requirement already satisfied: pyparsing!=3.0.5,>=2.0.2 in c:\\users\\n.yadollahpour\\python\\python310\\lib\\site-packages (from packaging>=14.1->streamlit->-r requirements.txt (line 1)) (3.0.9)\n",
      "Requirement already satisfied: pytz>=2020.1 in c:\\users\\n.yadollahpour\\python\\python310\\lib\\site-packages (from pandas>=0.21.0->streamlit->-r requirements.txt (line 1)) (2022.1)\n",
      "Requirement already satisfied: six>=1.5 in c:\\users\\n.yadollahpour\\python\\python310\\lib\\site-packages (from python-dateutil->streamlit->-r requirements.txt (line 1)) (1.16.0)\n",
      "Requirement already satisfied: idna<4,>=2.5 in c:\\users\\n.yadollahpour\\python\\python310\\lib\\site-packages (from requests>=2.4->streamlit->-r requirements.txt (line 1)) (2.10)\n",
      "Requirement already satisfied: certifi>=2017.4.17 in c:\\users\\n.yadollahpour\\python\\python310\\lib\\site-packages (from requests>=2.4->streamlit->-r requirements.txt (line 1)) (2022.6.15)\n",
      "Requirement already satisfied: charset-normalizer~=2.0.0 in c:\\users\\n.yadollahpour\\python\\python310\\lib\\site-packages (from requests>=2.4->streamlit->-r requirements.txt (line 1)) (2.0.12)\n",
      "Requirement already satisfied: urllib3<1.27,>=1.21.1 in c:\\users\\n.yadollahpour\\python\\python310\\lib\\site-packages (from requests>=2.4->streamlit->-r requirements.txt (line 1)) (1.26.9)\n",
      "Requirement already satisfied: pygments<3.0.0,>=2.14.0 in c:\\users\\n.yadollahpour\\python\\python310\\lib\\site-packages (from rich>=10.11.0->streamlit->-r requirements.txt (line 1)) (2.14.0)\n",
      "Requirement already satisfied: markdown-it-py<3.0.0,>=2.1.0 in c:\\users\\n.yadollahpour\\python\\python310\\lib\\site-packages (from rich>=10.11.0->streamlit->-r requirements.txt (line 1)) (2.1.0)\n",
      "Requirement already satisfied: tzdata in c:\\users\\n.yadollahpour\\python\\python310\\lib\\site-packages (from tzlocal>=1.1->streamlit->-r requirements.txt (line 1)) (2022.7)\n",
      "Requirement already satisfied: pytz-deprecation-shim in c:\\users\\n.yadollahpour\\python\\python310\\lib\\site-packages (from tzlocal>=1.1->streamlit->-r requirements.txt (line 1)) (0.1.0.post0)\n",
      "Requirement already satisfied: decorator>=3.4.0 in c:\\users\\n.yadollahpour\\python\\python310\\lib\\site-packages (from validators>=0.2->streamlit->-r requirements.txt (line 1)) (5.1.1)\n",
      "Requirement already satisfied: attrs>=17.3.0 in c:\\users\\n.yadollahpour\\python\\python310\\lib\\site-packages (from aiohttp->openai<=1->-r requirements.txt (line 2)) (21.4.0)\n",
      "Requirement already satisfied: frozenlist>=1.1.1 in c:\\users\\n.yadollahpour\\python\\python310\\lib\\site-packages (from aiohttp->openai<=1->-r requirements.txt (line 2)) (1.3.3)\n",
      "Requirement already satisfied: yarl<2.0,>=1.0 in c:\\users\\n.yadollahpour\\python\\python310\\lib\\site-packages (from aiohttp->openai<=1->-r requirements.txt (line 2)) (1.8.2)\n",
      "Requirement already satisfied: multidict<7.0,>=4.5 in c:\\users\\n.yadollahpour\\python\\python310\\lib\\site-packages (from aiohttp->openai<=1->-r requirements.txt (line 2)) (6.0.4)\n",
      "Requirement already satisfied: aiosignal>=1.1.2 in c:\\users\\n.yadollahpour\\python\\python310\\lib\\site-packages (from aiohttp->openai<=1->-r requirements.txt (line 2)) (1.3.1)\n",
      "Requirement already satisfied: async-timeout<5.0,>=4.0.0a3 in c:\\users\\n.yadollahpour\\python\\python310\\lib\\site-packages (from aiohttp->openai<=1->-r requirements.txt (line 2)) (4.0.2)\n",
      "Requirement already satisfied: smmap<6,>=3.0.1 in c:\\users\\n.yadollahpour\\python\\python310\\lib\\site-packages (from gitdb<5,>=4.0.1->gitpython!=3.1.19->streamlit->-r requirements.txt (line 1)) (5.0.0)\n",
      "Requirement already satisfied: MarkupSafe>=2.0 in c:\\users\\n.yadollahpour\\python\\python310\\lib\\site-packages (from jinja2->altair>=3.2.0->streamlit->-r requirements.txt (line 1)) (2.1.1)\n",
      "Requirement already satisfied: pyrsistent!=0.17.0,!=0.17.1,!=0.17.2,>=0.14.0 in c:\\users\\n.yadollahpour\\python\\python310\\lib\\site-packages (from jsonschema>=3.0->altair>=3.2.0->streamlit->-r requirements.txt (line 1)) (0.18.1)\n",
      "Requirement already satisfied: mdurl~=0.1 in c:\\users\\n.yadollahpour\\python\\python310\\lib\\site-packages (from markdown-it-py<3.0.0,>=2.1.0->rich>=10.11.0->streamlit->-r requirements.txt (line 1)) (0.1.2)\n"
     ]
    },
    {
     "name": "stderr",
     "output_type": "stream",
     "text": [
      "\n",
      "[notice] A new release of pip available: 22.3 -> 23.2\n",
      "[notice] To update, run: python.exe -m pip install --upgrade pip\n"
     ]
    }
   ],
   "source": [
    "!pip3 install -r requirements.txt"
   ]
  },
  {
   "cell_type": "code",
   "execution_count": null,
   "id": "f93e5800",
   "metadata": {},
   "outputs": [],
   "source": [
    "!streamlit run skill_generator.py"
   ]
  },
  {
   "cell_type": "code",
   "execution_count": null,
   "id": "b2c0fcca",
   "metadata": {},
   "outputs": [],
   "source": []
  }
 ],
 "metadata": {
  "kernelspec": {
   "display_name": "Python 3 (ipykernel)",
   "language": "python",
   "name": "python3"
  },
  "language_info": {
   "codemirror_mode": {
    "name": "ipython",
    "version": 3
   },
   "file_extension": ".py",
   "mimetype": "text/x-python",
   "name": "python",
   "nbconvert_exporter": "python",
   "pygments_lexer": "ipython3",
   "version": "3.10.5"
  }
 },
 "nbformat": 4,
 "nbformat_minor": 5
}
